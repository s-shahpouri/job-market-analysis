{
 "cells": [
  {
   "cell_type": "markdown",
   "metadata": {},
   "source": [
    "# DATA SCIENCE JOB MARKET ANALYSIS"
   ]
  },
  {
   "cell_type": "markdown",
   "metadata": {},
   "source": [
    "## 1. Web Scraping using Selenium"
   ]
  },
  {
   "cell_type": "code",
   "execution_count": null,
   "metadata": {},
   "outputs": [],
   "source": [
    "import time\n",
    "from selenium import webdriver\n",
    "import pandas as pd\n",
    "from selenium.webdriver.common.by import By\n",
    "from selenium.webdriver.support.ui import WebDriverWait\n",
    "from selenium.webdriver.support import expected_conditions as EC\n",
    "import csv\n"
   ]
  },
  {
   "cell_type": "code",
   "execution_count": null,
   "metadata": {},
   "outputs": [],
   "source": [
    "driver = webdriver.Chrome()\n",
    "driver.maximize_window()\n",
    "\n",
    "jobs = {\n",
    "    \"roles\": [],\n",
    "    \"companies\": [],\n",
    "    \"locations\": [],\n",
    "    \"experience\": [],\n",
    "    \"skills\": []\n",
    "}\n",
    "\n",
    "for i in range(50):\n",
    "    driver.get(f\"https://www.naukri.com/data-scientist-jobs-{i}\")\n",
    "    \n",
    "    WebDriverWait(driver, 10).until(\n",
    "        EC.presence_of_element_located((By.CSS_SELECTOR, \"div.cust-job-tuple\"))\n",
    "    )\n",
    "    \n",
    "    job_cards = driver.find_elements(By.CSS_SELECTOR, \"div.cust-job-tuple\")\n",
    "\n",
    "    for job in job_cards:\n",
    "        try:\n",
    "            role = job.find_element(By.CSS_SELECTOR, \"a.title\").text.strip()\n",
    "        except:\n",
    "            role = \"\"\n",
    "        try:\n",
    "            company = job.find_element(By.CSS_SELECTOR, \"a.comp-name\").text.strip()\n",
    "        except:\n",
    "            company = \"\"\n",
    "        try:\n",
    "            exp = job.find_element(By.CSS_SELECTOR, \"span.exp span.expwdth\").text.strip()\n",
    "        except:\n",
    "            exp = \"\"\n",
    "        try:\n",
    "            location = job.find_element(By.CSS_SELECTOR, \"span.loc span.locWdth\").text.strip()\n",
    "        except:\n",
    "            location = \"\"\n",
    "        try:\n",
    "            # finds all <li> elements inside a <ul> with the class tags-gt, within a specific job HTML element.\n",
    "            # The result is a list of WebElement objects (each representing a skill tag).\n",
    "            skills_list = job.find_elements(By.CSS_SELECTOR, \"ul.tags-gt li\")\n",
    "\n",
    "            # Loops over to extract each elements, then strips whitespaces,\n",
    "            # then joins all skills into a single string, separated by commas.\n",
    "            skills = ', '.join([s.text.strip() for s in skills_list])\n",
    "        except:\n",
    "            skills = \"\"\n",
    "\n",
    "        jobs[\"roles\"].append(role)\n",
    "        jobs[\"companies\"].append(company)\n",
    "        jobs[\"locations\"].append(location)\n",
    "        jobs[\"experience\"].append(exp)\n",
    "        jobs[\"skills\"].append(skills)"
   ]
  },
  {
   "cell_type": "code",
   "execution_count": 12,
   "metadata": {
    "scrolled": true
   },
   "outputs": [],
   "source": [
    "import pandas as pd\n",
    "DS_jobs_df=pd.DataFrame(jobs)\n",
    "DS_jobs_df.to_csv(\"DataScience_jobs.csv\")"
   ]
  }
 ],
 "metadata": {
  "kernelspec": {
   "display_name": "jobenv",
   "language": "python",
   "name": "jobenv"
  },
  "language_info": {
   "codemirror_mode": {
    "name": "ipython",
    "version": 3
   },
   "file_extension": ".py",
   "mimetype": "text/x-python",
   "name": "python",
   "nbconvert_exporter": "python",
   "pygments_lexer": "ipython3",
   "version": "3.11.9"
  }
 },
 "nbformat": 4,
 "nbformat_minor": 4
}
